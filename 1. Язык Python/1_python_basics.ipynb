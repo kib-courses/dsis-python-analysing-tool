{
 "cells": [
  {
   "cell_type": "markdown",
   "id": "9e798a6e",
   "metadata": {},
   "source": [
    "Про выполнение команд\n",
    "\n",
    "- Shift + Enter - выполнить код в ячейке и перейти на следующую\n",
    "- Ctrl + Enter - выполнить и остаться\n",
    "\n",
    "Про создание/улание ячеек\n",
    "- b - создать ячейку снизу\n",
    "- a - создать ячейку сверху\n",
    "- двойное нажатие d - удалить ячейку"
   ]
  },
  {
   "cell_type": "code",
   "execution_count": null,
   "id": "5f1585dc",
   "metadata": {},
   "outputs": [],
   "source": [
    "# длинные переменные и названия функций в питоне записывают через snake_case\n",
    "\n",
    "snake_case_integer = 5"
   ]
  },
  {
   "cell_type": "markdown",
   "id": "862e5561",
   "metadata": {},
   "source": [
    "## Коллекции"
   ]
  },
  {
   "cell_type": "markdown",
   "id": "b7ccf2da",
   "metadata": {},
   "source": [
    "### Работа с листами"
   ]
  },
  {
   "cell_type": "code",
   "execution_count": 67,
   "id": "8c9335a4",
   "metadata": {},
   "outputs": [],
   "source": [
    "just_numbers = [4, 1, 13, 0, 6]"
   ]
  },
  {
   "cell_type": "code",
   "execution_count": 9,
   "id": "74b83bab",
   "metadata": {},
   "outputs": [
    {
     "data": {
      "text/plain": [
       "24"
      ]
     },
     "execution_count": 9,
     "metadata": {},
     "output_type": "execute_result"
    }
   ],
   "source": [
    "sum(just_numbers)"
   ]
  },
  {
   "cell_type": "code",
   "execution_count": 10,
   "id": "929bfcf9",
   "metadata": {},
   "outputs": [
    {
     "data": {
      "text/plain": [
       "[0, 1, 4, 6, 13]"
      ]
     },
     "execution_count": 10,
     "metadata": {},
     "output_type": "execute_result"
    }
   ],
   "source": [
    "sorted(just_numbers)"
   ]
  },
  {
   "cell_type": "code",
   "execution_count": 11,
   "id": "e0bf7abe",
   "metadata": {},
   "outputs": [
    {
     "data": {
      "text/plain": [
       "[4, 1, 13, 0, 6, 1, 2, 3]"
      ]
     },
     "execution_count": 11,
     "metadata": {},
     "output_type": "execute_result"
    }
   ],
   "source": [
    "just_numbers + [1, 2, 3]"
   ]
  },
  {
   "cell_type": "code",
   "execution_count": 61,
   "id": "0daa0999",
   "metadata": {},
   "outputs": [
    {
     "data": {
      "text/plain": [
       "0"
      ]
     },
     "execution_count": 61,
     "metadata": {},
     "output_type": "execute_result"
    }
   ],
   "source": [
    "min(just_numbers)"
   ]
  },
  {
   "cell_type": "code",
   "execution_count": 92,
   "id": "72adaae4",
   "metadata": {},
   "outputs": [
    {
     "data": {
      "text/plain": [
       "13"
      ]
     },
     "execution_count": 92,
     "metadata": {},
     "output_type": "execute_result"
    }
   ],
   "source": [
    "max(just_numbers)"
   ]
  },
  {
   "cell_type": "code",
   "execution_count": 93,
   "id": "be8695b5",
   "metadata": {},
   "outputs": [
    {
     "name": "stdout",
     "output_type": "stream",
     "text": [
      "0 4\n",
      "1 1\n",
      "2 13\n",
      "3 0\n",
      "4 6\n"
     ]
    }
   ],
   "source": [
    "for idx,x in enumerate(just_numbers):\n",
    "    print(idx, x)"
   ]
  },
  {
   "cell_type": "code",
   "execution_count": 97,
   "id": "17e71dcd",
   "metadata": {},
   "outputs": [
    {
     "data": {
      "text/plain": [
       "[(1, 4), (2, 5), (3, 6)]"
      ]
     },
     "execution_count": 97,
     "metadata": {},
     "output_type": "execute_result"
    }
   ],
   "source": [
    "list(zip([1, 2, 3], [4, 5, 6]))"
   ]
  },
  {
   "cell_type": "markdown",
   "id": "70f8ff65",
   "metadata": {},
   "source": [
    "### Пару слов про модель памяти"
   ]
  },
  {
   "cell_type": "code",
   "execution_count": 13,
   "id": "da4f6496",
   "metadata": {},
   "outputs": [
    {
     "data": {
      "text/plain": [
       "[4, 1, 13, 0, 6]"
      ]
     },
     "execution_count": 13,
     "metadata": {},
     "output_type": "execute_result"
    }
   ],
   "source": [
    "just_numbers"
   ]
  },
  {
   "cell_type": "code",
   "execution_count": 14,
   "id": "3515d9c8",
   "metadata": {},
   "outputs": [
    {
     "data": {
      "text/plain": [
       "[4, 1, 13, 0, 6]"
      ]
     },
     "execution_count": 14,
     "metadata": {},
     "output_type": "execute_result"
    }
   ],
   "source": [
    "new_arr = just_numbers\n",
    "new_arr"
   ]
  },
  {
   "cell_type": "code",
   "execution_count": 16,
   "id": "74ac12a9",
   "metadata": {},
   "outputs": [
    {
     "data": {
      "text/plain": [
       "[4, 1, 13, 0, 6, 42, 42]"
      ]
     },
     "execution_count": 16,
     "metadata": {},
     "output_type": "execute_result"
    }
   ],
   "source": [
    "new_arr.append(42)\n",
    "print(new_arr)\n",
    "print(just_numbers)"
   ]
  },
  {
   "cell_type": "code",
   "execution_count": 48,
   "id": "387c2228",
   "metadata": {},
   "outputs": [
    {
     "name": "stdout",
     "output_type": "stream",
     "text": [
      "[4, 1, 13, 0, 6, 42]\n",
      "[4, 1, 13, 0, 6]\n"
     ]
    }
   ],
   "source": [
    "from copy import copy\n",
    "\n",
    "just_numbers = [4, 1, 13, 0, 6]\n",
    "new_arr = copy(just_numbers)\n",
    "new_arr.append(42)\n",
    "print(new_arr)\n",
    "print(just_numbers)"
   ]
  },
  {
   "cell_type": "code",
   "execution_count": 27,
   "id": "db21991f",
   "metadata": {},
   "outputs": [
    {
     "name": "stdout",
     "output_type": "stream",
     "text": [
      "[[4, 1, 42], [13, 0]]\n",
      "[[4, 1, 42], [13, 0]]\n"
     ]
    }
   ],
   "source": [
    "from copy import copy\n",
    "\n",
    "matrix = [[4, 1], [13, 0]]\n",
    "new_matrix = copy(matrix)\n",
    "new_matrix[0].append(42)\n",
    "print(new_matrix)\n",
    "print(matrix)"
   ]
  },
  {
   "cell_type": "code",
   "execution_count": 28,
   "id": "83e130e1",
   "metadata": {},
   "outputs": [
    {
     "name": "stdout",
     "output_type": "stream",
     "text": [
      "[[4, 1, 42], [13, 0]]\n",
      "[[4, 1], [13, 0]]\n"
     ]
    }
   ],
   "source": [
    "from copy import deepcopy\n",
    "\n",
    "matrix = [[4, 1], [13, 0]]\n",
    "new_matrix = deepcopy(matrix)\n",
    "new_matrix[0].append(42)\n",
    "print(new_matrix)\n",
    "print(matrix)"
   ]
  },
  {
   "cell_type": "markdown",
   "id": "5efda0d9",
   "metadata": {},
   "source": [
    "### Срезы"
   ]
  },
  {
   "cell_type": "code",
   "execution_count": 32,
   "id": "0802efb2",
   "metadata": {},
   "outputs": [
    {
     "data": {
      "text/plain": [
       "[4, 1, 13, 0, 6]"
      ]
     },
     "execution_count": 32,
     "metadata": {},
     "output_type": "execute_result"
    }
   ],
   "source": [
    "just_numbers"
   ]
  },
  {
   "cell_type": "code",
   "execution_count": 33,
   "id": "8908d34e",
   "metadata": {},
   "outputs": [
    {
     "data": {
      "text/plain": [
       "[1, 13]"
      ]
     },
     "execution_count": 33,
     "metadata": {},
     "output_type": "execute_result"
    }
   ],
   "source": [
    "just_numbers[1:3]"
   ]
  },
  {
   "cell_type": "code",
   "execution_count": 34,
   "id": "5b9181c2",
   "metadata": {},
   "outputs": [
    {
     "data": {
      "text/plain": [
       "6"
      ]
     },
     "execution_count": 34,
     "metadata": {},
     "output_type": "execute_result"
    }
   ],
   "source": [
    "just_numbers[-1]"
   ]
  },
  {
   "cell_type": "code",
   "execution_count": 38,
   "id": "f487c63d",
   "metadata": {},
   "outputs": [
    {
     "data": {
      "text/plain": [
       "13"
      ]
     },
     "execution_count": 38,
     "metadata": {},
     "output_type": "execute_result"
    }
   ],
   "source": [
    "# Третий с конца\n",
    "just_numbers[-3]"
   ]
  },
  {
   "cell_type": "code",
   "execution_count": 37,
   "id": "0e59f6ef",
   "metadata": {},
   "outputs": [
    {
     "data": {
      "text/plain": [
       "[1, 13, 0, 6]"
      ]
     },
     "execution_count": 37,
     "metadata": {},
     "output_type": "execute_result"
    }
   ],
   "source": [
    "# Все эоементы наченая со второго\n",
    "just_numbers[1:]"
   ]
  },
  {
   "cell_type": "code",
   "execution_count": 40,
   "id": "eb97d484",
   "metadata": {},
   "outputs": [
    {
     "data": {
      "text/plain": [
       "[4, 1, 13, 0, 6]"
      ]
     },
     "execution_count": 40,
     "metadata": {},
     "output_type": "execute_result"
    }
   ],
   "source": [
    "# Тривиальный срез\n",
    "just_numbers[:]"
   ]
  },
  {
   "cell_type": "code",
   "execution_count": 43,
   "id": "e6d6451d",
   "metadata": {},
   "outputs": [
    {
     "data": {
      "text/plain": [
       "[4, 13, 6]"
      ]
     },
     "execution_count": 43,
     "metadata": {},
     "output_type": "execute_result"
    }
   ],
   "source": [
    "# Каждый второй\n",
    "just_numbers[::2]"
   ]
  },
  {
   "cell_type": "code",
   "execution_count": 45,
   "id": "ff1d4071",
   "metadata": {},
   "outputs": [
    {
     "data": {
      "text/plain": [
       "[6, 0, 13, 1, 4]"
      ]
     },
     "execution_count": 45,
     "metadata": {},
     "output_type": "execute_result"
    }
   ],
   "source": [
    "# задом наперед\n",
    "just_numbers[::-1]"
   ]
  },
  {
   "cell_type": "markdown",
   "id": "04165195",
   "metadata": {},
   "source": [
    "### List comprehension"
   ]
  },
  {
   "cell_type": "code",
   "execution_count": 51,
   "id": "47f2490f",
   "metadata": {},
   "outputs": [
    {
     "data": {
      "text/plain": [
       "[5, 2, 14, 1, 7]"
      ]
     },
     "execution_count": 51,
     "metadata": {},
     "output_type": "execute_result"
    }
   ],
   "source": [
    "just_numbers = [4, 1, 13, 0, 6]\n",
    "[x + 1 for x in just_numbers]"
   ]
  },
  {
   "cell_type": "code",
   "execution_count": 53,
   "id": "45f718c7",
   "metadata": {},
   "outputs": [
    {
     "data": {
      "text/plain": [
       "[4, 1, 0, 6]"
      ]
     },
     "execution_count": 53,
     "metadata": {},
     "output_type": "execute_result"
    }
   ],
   "source": [
    "[x for x in just_numbers if x < 10]"
   ]
  },
  {
   "cell_type": "markdown",
   "id": "1992c57b",
   "metadata": {},
   "source": [
    "### Кортежи"
   ]
  },
  {
   "cell_type": "code",
   "execution_count": 57,
   "id": "b7b16392",
   "metadata": {},
   "outputs": [
    {
     "data": {
      "text/plain": [
       "(1, 2, 3)"
      ]
     },
     "execution_count": 57,
     "metadata": {},
     "output_type": "execute_result"
    }
   ],
   "source": [
    "tup = (1, 2, 3)\n",
    "tup"
   ]
  },
  {
   "cell_type": "code",
   "execution_count": 64,
   "id": "43bb5fee",
   "metadata": {},
   "outputs": [
    {
     "name": "stdout",
     "output_type": "stream",
     "text": [
      "0\n",
      "13\n"
     ]
    }
   ],
   "source": [
    "def get_min_max(arr):\n",
    "    return min(arr), max(arr)\n",
    "\n",
    "min_, max_ = get_min_max(just_numbers)\n",
    "print(min_)\n",
    "print(max_)"
   ]
  },
  {
   "cell_type": "code",
   "execution_count": 89,
   "id": "2503af58",
   "metadata": {},
   "outputs": [
    {
     "name": "stdout",
     "output_type": "stream",
     "text": [
      "a=100 b=-5\n"
     ]
    }
   ],
   "source": [
    "#Поменять переменные местами\n",
    "a = -5\n",
    "b = 100\n",
    "\n",
    "a, b = b, a\n",
    "\n",
    "print(f\"a={a} b={b}\")"
   ]
  },
  {
   "cell_type": "markdown",
   "id": "c5494e93",
   "metadata": {},
   "source": [
    "### Множества"
   ]
  },
  {
   "cell_type": "code",
   "execution_count": 68,
   "id": "393c869a",
   "metadata": {},
   "outputs": [],
   "source": [
    "arr = [1, 1, 2, 3, 4]"
   ]
  },
  {
   "cell_type": "code",
   "execution_count": 69,
   "id": "0392be30",
   "metadata": {},
   "outputs": [
    {
     "data": {
      "text/plain": [
       "{1, 2, 3, 4}"
      ]
     },
     "execution_count": 69,
     "metadata": {},
     "output_type": "execute_result"
    }
   ],
   "source": [
    "s = set(arr)\n",
    "s"
   ]
  },
  {
   "cell_type": "code",
   "execution_count": 70,
   "id": "5cb56269",
   "metadata": {},
   "outputs": [
    {
     "data": {
      "text/plain": [
       "[1, 2, 3, 4]"
      ]
     },
     "execution_count": 70,
     "metadata": {},
     "output_type": "execute_result"
    }
   ],
   "source": [
    "# Грязный способ выкинуть все повторки из массива\n",
    "list(set(arr))"
   ]
  },
  {
   "cell_type": "code",
   "execution_count": 71,
   "id": "4cb4c100",
   "metadata": {},
   "outputs": [
    {
     "name": "stdout",
     "output_type": "stream",
     "text": [
      "yes\n"
     ]
    }
   ],
   "source": [
    "if 3 in s:\n",
    "    print(\"yes\")\n",
    "else:\n",
    "    print(\"no\")"
   ]
  },
  {
   "cell_type": "code",
   "execution_count": 91,
   "id": "6a182410",
   "metadata": {},
   "outputs": [
    {
     "data": {
      "text/plain": [
       "{2, 3, 4, 5}"
      ]
     },
     "execution_count": 91,
     "metadata": {},
     "output_type": "execute_result"
    }
   ],
   "source": [
    "{x + 1 for x in arr}"
   ]
  },
  {
   "cell_type": "code",
   "execution_count": 100,
   "id": "2ee306d7",
   "metadata": {},
   "outputs": [],
   "source": [
    "s1 = {1, 2, 3}\n",
    "s2 = {1, 3, 6}"
   ]
  },
  {
   "cell_type": "code",
   "execution_count": 101,
   "id": "871aa47e",
   "metadata": {},
   "outputs": [
    {
     "data": {
      "text/plain": [
       "{1, 3}"
      ]
     },
     "execution_count": 101,
     "metadata": {},
     "output_type": "execute_result"
    }
   ],
   "source": [
    "s1.intersection(s2)"
   ]
  },
  {
   "cell_type": "code",
   "execution_count": 102,
   "id": "f198640f",
   "metadata": {},
   "outputs": [
    {
     "data": {
      "text/plain": [
       "{1, 2, 3, 6}"
      ]
     },
     "execution_count": 102,
     "metadata": {},
     "output_type": "execute_result"
    }
   ],
   "source": [
    "s1.union(s2)"
   ]
  },
  {
   "cell_type": "markdown",
   "id": "ceb06471",
   "metadata": {},
   "source": [
    "### Словарь"
   ]
  },
  {
   "cell_type": "code",
   "execution_count": 49,
   "id": "5486d49d",
   "metadata": {},
   "outputs": [],
   "source": [
    "person = {\n",
    "    \"first_name\": \"Иван\",\n",
    "    \"last_name\": \"Иванов\",\n",
    "    \"age\": 23,\n",
    "    \"profession\":\"Data Scientist\",\n",
    "}"
   ]
  },
  {
   "cell_type": "code",
   "execution_count": 28,
   "id": "6a0aec19",
   "metadata": {},
   "outputs": [],
   "source": [
    "days = {\n",
    "    '2023-08-20': 'Sunday',\n",
    "    '2023-08-21': 'Monday',\n",
    "    '2023-08-22': 'Tuesday',\n",
    "}"
   ]
  },
  {
   "cell_type": "code",
   "execution_count": 29,
   "id": "bc73571e",
   "metadata": {},
   "outputs": [
    {
     "data": {
      "text/plain": [
       "'Sunday'"
      ]
     },
     "execution_count": 29,
     "metadata": {},
     "output_type": "execute_result"
    }
   ],
   "source": [
    "days['2023-08-20']"
   ]
  },
  {
   "cell_type": "code",
   "execution_count": 36,
   "id": "759c5e4c",
   "metadata": {},
   "outputs": [
    {
     "ename": "KeyError",
     "evalue": "'no_such_day'",
     "output_type": "error",
     "traceback": [
      "\u001b[0;31m---------------------------------------------------------------------------\u001b[0m",
      "\u001b[0;31mKeyError\u001b[0m                                  Traceback (most recent call last)",
      "Cell \u001b[0;32mIn[36], line 1\u001b[0m\n\u001b[0;32m----> 1\u001b[0m \u001b[43mdays\u001b[49m\u001b[43m[\u001b[49m\u001b[38;5;124;43m'\u001b[39;49m\u001b[38;5;124;43mno_such_day\u001b[39;49m\u001b[38;5;124;43m'\u001b[39;49m\u001b[43m]\u001b[49m\n",
      "\u001b[0;31mKeyError\u001b[0m: 'no_such_day'"
     ]
    }
   ],
   "source": [
    "days['no_such_day']"
   ]
  },
  {
   "cell_type": "code",
   "execution_count": 42,
   "id": "8b4cd6de",
   "metadata": {},
   "outputs": [
    {
     "name": "stdout",
     "output_type": "stream",
     "text": [
      "None\n"
     ]
    }
   ],
   "source": [
    "print(days.get('no_such_day'))"
   ]
  },
  {
   "cell_type": "code",
   "execution_count": 43,
   "id": "68802c55",
   "metadata": {},
   "outputs": [
    {
     "name": "stdout",
     "output_type": "stream",
     "text": [
      "unknown\n"
     ]
    }
   ],
   "source": [
    "print(days.get('no_such_day', 'unknown'))"
   ]
  },
  {
   "cell_type": "code",
   "execution_count": 33,
   "id": "9f6dc9fc",
   "metadata": {},
   "outputs": [
    {
     "name": "stdout",
     "output_type": "stream",
     "text": [
      "2023-08-20\n",
      "2023-08-21\n",
      "2023-08-22\n"
     ]
    }
   ],
   "source": [
    "for v in days.keys():\n",
    "    print(v)"
   ]
  },
  {
   "cell_type": "code",
   "execution_count": 35,
   "id": "a29d867f",
   "metadata": {},
   "outputs": [
    {
     "name": "stdout",
     "output_type": "stream",
     "text": [
      "Sunday\n",
      "Monday\n",
      "Tuesday\n"
     ]
    }
   ],
   "source": [
    "for v in days.values():\n",
    "    print(v)"
   ]
  },
  {
   "cell_type": "code",
   "execution_count": 31,
   "id": "4c7ffd55",
   "metadata": {},
   "outputs": [
    {
     "name": "stdout",
     "output_type": "stream",
     "text": [
      "2023-08-20 Sunday\n",
      "2023-08-21 Monday\n",
      "2023-08-22 Tuesday\n"
     ]
    }
   ],
   "source": [
    "for k,v in days.items():\n",
    "    print(k, v)"
   ]
  },
  {
   "cell_type": "code",
   "execution_count": 48,
   "id": "f2d554b6",
   "metadata": {},
   "outputs": [],
   "source": [
    "person_employed = {\n",
    "    \"first_name\": \"Иван\",\n",
    "    \"last_name\": \"Иванов\",\n",
    "    \"age\": 23,\n",
    "    \"profession\":\"Data Scientist\",\n",
    "    \"company\": {\n",
    "        \"name\": \"ООО ДатаСаенс\",\n",
    "        \"address\": \"ул. Пушкина, дом Колотушкина\"\n",
    "    }\n",
    "}"
   ]
  },
  {
   "cell_type": "code",
   "execution_count": 50,
   "id": "708970a2",
   "metadata": {},
   "outputs": [
    {
     "data": {
      "text/plain": [
       "'ООО ДатаСаенс'"
      ]
     },
     "execution_count": 50,
     "metadata": {},
     "output_type": "execute_result"
    }
   ],
   "source": [
    "person_employed[\"company\"][\"name\"]"
   ]
  },
  {
   "cell_type": "code",
   "execution_count": 51,
   "id": "6f15574e",
   "metadata": {},
   "outputs": [
    {
     "ename": "KeyError",
     "evalue": "'company'",
     "output_type": "error",
     "traceback": [
      "\u001b[0;31m---------------------------------------------------------------------------\u001b[0m",
      "\u001b[0;31mKeyError\u001b[0m                                  Traceback (most recent call last)",
      "Cell \u001b[0;32mIn[51], line 1\u001b[0m\n\u001b[0;32m----> 1\u001b[0m \u001b[43mperson\u001b[49m\u001b[43m[\u001b[49m\u001b[38;5;124;43m\"\u001b[39;49m\u001b[38;5;124;43mcompany\u001b[39;49m\u001b[38;5;124;43m\"\u001b[39;49m\u001b[43m]\u001b[49m[\u001b[38;5;124m\"\u001b[39m\u001b[38;5;124mname\u001b[39m\u001b[38;5;124m\"\u001b[39m]\n",
      "\u001b[0;31mKeyError\u001b[0m: 'company'"
     ]
    }
   ],
   "source": [
    "person[\"company\"][\"name\"]"
   ]
  },
  {
   "cell_type": "code",
   "execution_count": 57,
   "id": "61a9031e",
   "metadata": {},
   "outputs": [
    {
     "name": "stdout",
     "output_type": "stream",
     "text": [
      "None\n"
     ]
    }
   ],
   "source": [
    "print(person.get(\"company\", {}).get(\"name\"))"
   ]
  },
  {
   "cell_type": "code",
   "execution_count": 86,
   "id": "4b8f7903",
   "metadata": {},
   "outputs": [
    {
     "data": {
      "text/plain": [
       "{'0': 0, '1': 1, '2': 2, '3': 3, '4': 4}"
      ]
     },
     "execution_count": 86,
     "metadata": {},
     "output_type": "execute_result"
    }
   ],
   "source": [
    "{str(i)x: i for i in range(5)}"
   ]
  },
  {
   "cell_type": "markdown",
   "id": "89fb672b",
   "metadata": {},
   "source": [
    "## Функции"
   ]
  },
  {
   "cell_type": "code",
   "execution_count": 75,
   "id": "88ff9841",
   "metadata": {},
   "outputs": [],
   "source": [
    "# Возвращает квадрат числа num\n",
    "def square(num):\n",
    "    return num**2"
   ]
  },
  {
   "cell_type": "code",
   "execution_count": 73,
   "id": "02fe1ae0",
   "metadata": {},
   "outputs": [
    {
     "data": {
      "text/plain": [
       "9"
      ]
     },
     "execution_count": 73,
     "metadata": {},
     "output_type": "execute_result"
    }
   ],
   "source": [
    "square(3)"
   ]
  },
  {
   "cell_type": "code",
   "execution_count": 74,
   "id": "52f8fe87",
   "metadata": {},
   "outputs": [
    {
     "data": {
      "text/plain": [
       "9"
      ]
     },
     "execution_count": 74,
     "metadata": {},
     "output_type": "execute_result"
    }
   ],
   "source": [
    "square(num=3)"
   ]
  },
  {
   "cell_type": "code",
   "execution_count": 76,
   "id": "2727e1ce",
   "metadata": {},
   "outputs": [],
   "source": [
    "def sub(a, b):\n",
    "    return a - b"
   ]
  },
  {
   "cell_type": "code",
   "execution_count": 77,
   "id": "a73f6fb0",
   "metadata": {},
   "outputs": [
    {
     "data": {
      "text/plain": [
       "5"
      ]
     },
     "execution_count": 77,
     "metadata": {},
     "output_type": "execute_result"
    }
   ],
   "source": [
    "sub(10, 5)"
   ]
  },
  {
   "cell_type": "code",
   "execution_count": 78,
   "id": "2fb92971",
   "metadata": {},
   "outputs": [
    {
     "data": {
      "text/plain": [
       "5"
      ]
     },
     "execution_count": 78,
     "metadata": {},
     "output_type": "execute_result"
    }
   ],
   "source": [
    "sub(b=5, a=10)"
   ]
  },
  {
   "cell_type": "code",
   "execution_count": 94,
   "id": "8afd63b9",
   "metadata": {},
   "outputs": [
    {
     "name": "stdout",
     "output_type": "stream",
     "text": [
      "['one', 'two', 'three']\n",
      "['one', 'two', 'three']\n"
     ]
    }
   ],
   "source": [
    "def split_words(s, sep=\" \"):\n",
    "    return s.split(sep)\n",
    "\n",
    "print(split_words(\"one two three\"))\n",
    "print(split_words(\"one_two_three\", sep=\"_\"))"
   ]
  },
  {
   "cell_type": "code",
   "execution_count": 87,
   "id": "0d50a9f1",
   "metadata": {},
   "outputs": [
    {
     "name": "stdout",
     "output_type": "stream",
     "text": [
      "(1, 2, 'zuzuka', [])\n",
      "1\n",
      "2\n",
      "zuzuka\n",
      "[]\n"
     ]
    }
   ],
   "source": [
    "def many_args(*args):\n",
    "    print(args)\n",
    "        \n",
    "many_args(1, 2, \"zuzuka\", list())"
   ]
  },
  {
   "cell_type": "code",
   "execution_count": 86,
   "id": "671c75e8",
   "metadata": {},
   "outputs": [
    {
     "name": "stdout",
     "output_type": "stream",
     "text": [
      "{'a': 1, 'b': 2, 'name': 'zuzuka', 'arr': []}\n"
     ]
    }
   ],
   "source": [
    "def many_named_args(**kwargs):\n",
    "    print(kwargs)\n",
    "        \n",
    "many_named_args(a=1, b=2, name=\"zuzuka\", arr=list())"
   ]
  },
  {
   "cell_type": "markdown",
   "id": "5e57e273",
   "metadata": {},
   "source": [
    "### lambda-функции + map, filter"
   ]
  },
  {
   "cell_type": "code",
   "execution_count": 76,
   "id": "f07f5312",
   "metadata": {},
   "outputs": [],
   "source": [
    "just_numbers = [4, 1, 13, 0, 6]"
   ]
  },
  {
   "cell_type": "code",
   "execution_count": 78,
   "id": "ef4f67c9",
   "metadata": {},
   "outputs": [
    {
     "data": {
      "text/plain": [
       "[4, 1, 13, 6]"
      ]
     },
     "execution_count": 78,
     "metadata": {},
     "output_type": "execute_result"
    }
   ],
   "source": [
    "def is_above_zero(x):\n",
    "    return x > 0\n",
    "\n",
    "list(filter(is_above_zero, just_numbers))"
   ]
  },
  {
   "cell_type": "code",
   "execution_count": 81,
   "id": "e273121f",
   "metadata": {},
   "outputs": [
    {
     "data": {
      "text/plain": [
       "[4, 1, 13, 6]"
      ]
     },
     "execution_count": 81,
     "metadata": {},
     "output_type": "execute_result"
    }
   ],
   "source": [
    "list(filter(lambda x: x > 0, just_numbers))"
   ]
  },
  {
   "cell_type": "code",
   "execution_count": 83,
   "id": "cbf86c4b",
   "metadata": {},
   "outputs": [
    {
     "data": {
      "text/plain": [
       "[3, 0, 12, -1, 5]"
      ]
     },
     "execution_count": 83,
     "metadata": {},
     "output_type": "execute_result"
    }
   ],
   "source": [
    "list(map(lambda x: x - 1, just_numbers))"
   ]
  },
  {
   "cell_type": "code",
   "execution_count": 99,
   "id": "126bc961",
   "metadata": {},
   "outputs": [
    {
     "data": {
      "text/plain": [
       "'no'"
      ]
     },
     "execution_count": 99,
     "metadata": {},
     "output_type": "execute_result"
    }
   ],
   "source": [
    "\"yes\" if 1 > 2 else \"no\""
   ]
  },
  {
   "cell_type": "code",
   "execution_count": 84,
   "id": "c257b786",
   "metadata": {},
   "outputs": [
    {
     "data": {
      "text/plain": [
       "['yes', 'yes', 'no', 'yes', 'yes']"
      ]
     },
     "execution_count": 84,
     "metadata": {},
     "output_type": "execute_result"
    }
   ],
   "source": [
    "list(map(lambda x: \"yes\" if x < 10 else \"no\", just_numbers))"
   ]
  },
  {
   "cell_type": "markdown",
   "id": "8e39c15d",
   "metadata": {},
   "source": [
    "## Регулярные выражения"
   ]
  },
  {
   "cell_type": "code",
   "execution_count": 3,
   "id": "38c51e09",
   "metadata": {},
   "outputs": [],
   "source": [
    "import re\n",
    "\n",
    "pattern = re.compile('[0-9]{4}')"
   ]
  },
  {
   "cell_type": "code",
   "execution_count": 16,
   "id": "582c6d0d",
   "metadata": {},
   "outputs": [
    {
     "data": {
      "text/plain": [
       "<re.Match object; span=(0, 4), match='1245'>"
      ]
     },
     "execution_count": 16,
     "metadata": {},
     "output_type": "execute_result"
    }
   ],
   "source": [
    "pattern.fullmatch(\"1245\")"
   ]
  },
  {
   "cell_type": "code",
   "execution_count": 15,
   "id": "9bfbc5ba",
   "metadata": {},
   "outputs": [],
   "source": [
    "pattern.fullmatch(\"1245\")"
   ]
  },
  {
   "cell_type": "code",
   "execution_count": 19,
   "id": "ad740b00",
   "metadata": {},
   "outputs": [
    {
     "data": {
      "text/plain": [
       "['1245', '3456']"
      ]
     },
     "execution_count": 19,
     "metadata": {},
     "output_type": "execute_result"
    }
   ],
   "source": [
    "arr = [\"1245\", \"3456\", \"aabb\", \"1ab4\", \"\"]\n",
    "list(filter(pattern.fullmatch, arr))"
   ]
  },
  {
   "cell_type": "code",
   "execution_count": 22,
   "id": "d9a8d863",
   "metadata": {},
   "outputs": [
    {
     "data": {
      "text/plain": [
       "['1245', '6789']"
      ]
     },
     "execution_count": 22,
     "metadata": {},
     "output_type": "execute_result"
    }
   ],
   "source": [
    "pattern.findall(\"1245 6789 aabb\")"
   ]
  },
  {
   "cell_type": "markdown",
   "id": "43986a59",
   "metadata": {},
   "source": [
    "## Работа с датами"
   ]
  },
  {
   "cell_type": "code",
   "execution_count": 112,
   "id": "4b34600e",
   "metadata": {},
   "outputs": [
    {
     "data": {
      "text/plain": [
       "datetime.datetime(2017, 5, 1, 0, 0)"
      ]
     },
     "execution_count": 112,
     "metadata": {},
     "output_type": "execute_result"
    }
   ],
   "source": [
    "from datetime import datetime, timedelta\n",
    "\n",
    "startDate = '2017-05-01'\n",
    "some_date = datetime.strptime(startDate, '%Y-%m-%d')\n",
    "some_date"
   ]
  },
  {
   "cell_type": "code",
   "execution_count": 116,
   "id": "5a194532",
   "metadata": {},
   "outputs": [
    {
     "data": {
      "text/plain": [
       "1"
      ]
     },
     "execution_count": 116,
     "metadata": {},
     "output_type": "execute_result"
    }
   ],
   "source": [
    "some_date.day"
   ]
  },
  {
   "cell_type": "code",
   "execution_count": 120,
   "id": "9b6423ba",
   "metadata": {},
   "outputs": [
    {
     "data": {
      "text/plain": [
       "'2017.05.01 00:00'"
      ]
     },
     "execution_count": 120,
     "metadata": {},
     "output_type": "execute_result"
    }
   ],
   "source": [
    "some_date.strftime('%Y.%m.%d %H:%M')"
   ]
  },
  {
   "cell_type": "code",
   "execution_count": 117,
   "id": "cf3dd5d6",
   "metadata": {},
   "outputs": [
    {
     "data": {
      "text/plain": [
       "datetime.datetime(2017, 5, 2, 0, 0)"
      ]
     },
     "execution_count": 117,
     "metadata": {},
     "output_type": "execute_result"
    }
   ],
   "source": [
    "some_date + timedelta(days = 1)"
   ]
  },
  {
   "cell_type": "markdown",
   "id": "db7ffe12",
   "metadata": {},
   "source": [
    "## Try-except"
   ]
  },
  {
   "cell_type": "code",
   "execution_count": 104,
   "id": "e59271ef",
   "metadata": {},
   "outputs": [
    {
     "ename": "ZeroDivisionError",
     "evalue": "division by zero",
     "output_type": "error",
     "traceback": [
      "\u001b[0;31m---------------------------------------------------------------------------\u001b[0m",
      "\u001b[0;31mZeroDivisionError\u001b[0m                         Traceback (most recent call last)",
      "Cell \u001b[0;32mIn[104], line 1\u001b[0m\n\u001b[0;32m----> 1\u001b[0m \u001b[38;5;241;43m1\u001b[39;49m\u001b[43m \u001b[49m\u001b[38;5;241;43m/\u001b[39;49m\u001b[43m \u001b[49m\u001b[38;5;241;43m0\u001b[39;49m\n",
      "\u001b[0;31mZeroDivisionError\u001b[0m: division by zero"
     ]
    }
   ],
   "source": [
    "1 / 0"
   ]
  },
  {
   "cell_type": "code",
   "execution_count": 105,
   "id": "5451ba5d",
   "metadata": {},
   "outputs": [
    {
     "name": "stdout",
     "output_type": "stream",
     "text": [
      "cannot devide by zero\n"
     ]
    }
   ],
   "source": [
    "try:\n",
    "    1 / 0\n",
    "except ZeroDivisionError:\n",
    "    print(\"cannot devide by zero\")"
   ]
  },
  {
   "cell_type": "code",
   "execution_count": 106,
   "id": "581de8a0",
   "metadata": {},
   "outputs": [
    {
     "ename": "FileNotFoundError",
     "evalue": "[Errno 2] No such file or directory: 'no_such_file.txt'",
     "output_type": "error",
     "traceback": [
      "\u001b[0;31m---------------------------------------------------------------------------\u001b[0m",
      "\u001b[0;31mFileNotFoundError\u001b[0m                         Traceback (most recent call last)",
      "Cell \u001b[0;32mIn[106], line 1\u001b[0m\n\u001b[0;32m----> 1\u001b[0m \u001b[38;5;28;43mopen\u001b[39;49m\u001b[43m(\u001b[49m\u001b[38;5;124;43m\"\u001b[39;49m\u001b[38;5;124;43mno_such_file.txt\u001b[39;49m\u001b[38;5;124;43m\"\u001b[39;49m\u001b[43m)\u001b[49m\n",
      "File \u001b[0;32m/opt/homebrew/lib/python3.11/site-packages/IPython/core/interactiveshell.py:282\u001b[0m, in \u001b[0;36m_modified_open\u001b[0;34m(file, *args, **kwargs)\u001b[0m\n\u001b[1;32m    275\u001b[0m \u001b[38;5;28;01mif\u001b[39;00m file \u001b[38;5;129;01min\u001b[39;00m {\u001b[38;5;241m0\u001b[39m, \u001b[38;5;241m1\u001b[39m, \u001b[38;5;241m2\u001b[39m}:\n\u001b[1;32m    276\u001b[0m     \u001b[38;5;28;01mraise\u001b[39;00m \u001b[38;5;167;01mValueError\u001b[39;00m(\n\u001b[1;32m    277\u001b[0m         \u001b[38;5;124mf\u001b[39m\u001b[38;5;124m\"\u001b[39m\u001b[38;5;124mIPython won\u001b[39m\u001b[38;5;124m'\u001b[39m\u001b[38;5;124mt let you open fd=\u001b[39m\u001b[38;5;132;01m{\u001b[39;00mfile\u001b[38;5;132;01m}\u001b[39;00m\u001b[38;5;124m by default \u001b[39m\u001b[38;5;124m\"\u001b[39m\n\u001b[1;32m    278\u001b[0m         \u001b[38;5;124m\"\u001b[39m\u001b[38;5;124mas it is likely to crash IPython. If you know what you are doing, \u001b[39m\u001b[38;5;124m\"\u001b[39m\n\u001b[1;32m    279\u001b[0m         \u001b[38;5;124m\"\u001b[39m\u001b[38;5;124myou can use builtins\u001b[39m\u001b[38;5;124m'\u001b[39m\u001b[38;5;124m open.\u001b[39m\u001b[38;5;124m\"\u001b[39m\n\u001b[1;32m    280\u001b[0m     )\n\u001b[0;32m--> 282\u001b[0m \u001b[38;5;28;01mreturn\u001b[39;00m \u001b[43mio_open\u001b[49m\u001b[43m(\u001b[49m\u001b[43mfile\u001b[49m\u001b[43m,\u001b[49m\u001b[43m \u001b[49m\u001b[38;5;241;43m*\u001b[39;49m\u001b[43margs\u001b[49m\u001b[43m,\u001b[49m\u001b[43m \u001b[49m\u001b[38;5;241;43m*\u001b[39;49m\u001b[38;5;241;43m*\u001b[39;49m\u001b[43mkwargs\u001b[49m\u001b[43m)\u001b[49m\n",
      "\u001b[0;31mFileNotFoundError\u001b[0m: [Errno 2] No such file or directory: 'no_such_file.txt'"
     ]
    }
   ],
   "source": [
    "open(\"no_such_file.txt\")"
   ]
  },
  {
   "cell_type": "code",
   "execution_count": 108,
   "id": "c6a7409b",
   "metadata": {},
   "outputs": [
    {
     "name": "stdout",
     "output_type": "stream",
     "text": [
      "error: [Errno 2] No such file or directory: 'no_such_file.txt'\n"
     ]
    }
   ],
   "source": [
    "try:\n",
    "    open(\"no_such_file.txt\")\n",
    "except BaseException as e:\n",
    "    print(\"error:\", e)"
   ]
  },
  {
   "cell_type": "markdown",
   "id": "dfea8afe",
   "metadata": {},
   "source": [
    "## ООП"
   ]
  },
  {
   "cell_type": "code",
   "execution_count": 98,
   "id": "6b1c514a",
   "metadata": {},
   "outputs": [
    {
     "name": "stdout",
     "output_type": "stream",
     "text": [
      "False\n",
      "True\n"
     ]
    }
   ],
   "source": [
    "class MyModel:\n",
    "    def __init__(self, threshold):\n",
    "        self.threshold = threshold\n",
    "        \n",
    "    def apply(self, value):\n",
    "        return value > self.threshold\n",
    "    \n",
    "model = MyModel(0.5)\n",
    "print(model.apply(0.1))\n",
    "print(model.apply(0.9))"
   ]
  }
 ],
 "metadata": {
  "kernelspec": {
   "display_name": "Python 3 (ipykernel)",
   "language": "python",
   "name": "python3"
  },
  "language_info": {
   "codemirror_mode": {
    "name": "ipython",
    "version": 3
   },
   "file_extension": ".py",
   "mimetype": "text/x-python",
   "name": "python",
   "nbconvert_exporter": "python",
   "pygments_lexer": "ipython3",
   "version": "3.11.4"
  },
  "toc": {
   "base_numbering": 1,
   "nav_menu": {},
   "number_sections": true,
   "sideBar": true,
   "skip_h1_title": false,
   "title_cell": "Table of Contents",
   "title_sidebar": "Contents",
   "toc_cell": false,
   "toc_position": {},
   "toc_section_display": true,
   "toc_window_display": false
  }
 },
 "nbformat": 4,
 "nbformat_minor": 5
}
